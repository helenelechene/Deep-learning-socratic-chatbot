{
  "cells": [
    {
      "cell_type": "code",
      "execution_count": 16,
      "metadata": {
        "colab": {
          "base_uri": "https://localhost:8080/"
        },
        "id": "XFG8nanaO4aF",
        "outputId": "3c998da8-53e5-469b-8ab5-c113ea549fd3"
      },
      "outputs": [
        {
          "output_type": "stream",
          "name": "stdout",
          "text": [
            "Collecting https://github.com/explosion/spacy-models/releases/download/en_core_web_sm-2.3.1/en_core_web_sm-2.3.1.tar.gz\n",
            "  Downloading https://github.com/explosion/spacy-models/releases/download/en_core_web_sm-2.3.1/en_core_web_sm-2.3.1.tar.gz (12.0 MB)\n",
            "\u001b[K     |████████████████████████████████| 12.0 MB 16.1 MB/s \n",
            "\u001b[?25hRequirement already satisfied: spacy<2.4.0,>=2.3.0 in /usr/local/lib/python3.7/dist-packages (from en-core-web-sm==2.3.1) (2.3.7)\n",
            "Requirement already satisfied: blis<0.8.0,>=0.4.0 in /usr/local/lib/python3.7/dist-packages (from spacy<2.4.0,>=2.3.0->en-core-web-sm==2.3.1) (0.4.1)\n",
            "Requirement already satisfied: numpy>=1.15.0 in /usr/local/lib/python3.7/dist-packages (from spacy<2.4.0,>=2.3.0->en-core-web-sm==2.3.1) (1.19.5)\n",
            "Requirement already satisfied: plac<1.2.0,>=0.9.6 in /usr/local/lib/python3.7/dist-packages (from spacy<2.4.0,>=2.3.0->en-core-web-sm==2.3.1) (1.1.3)\n",
            "Requirement already satisfied: murmurhash<1.1.0,>=0.28.0 in /usr/local/lib/python3.7/dist-packages (from spacy<2.4.0,>=2.3.0->en-core-web-sm==2.3.1) (1.0.6)\n",
            "Requirement already satisfied: srsly<1.1.0,>=1.0.2 in /usr/local/lib/python3.7/dist-packages (from spacy<2.4.0,>=2.3.0->en-core-web-sm==2.3.1) (1.0.5)\n",
            "Requirement already satisfied: cymem<2.1.0,>=2.0.2 in /usr/local/lib/python3.7/dist-packages (from spacy<2.4.0,>=2.3.0->en-core-web-sm==2.3.1) (2.0.6)\n",
            "Requirement already satisfied: wasabi<1.1.0,>=0.4.0 in /usr/local/lib/python3.7/dist-packages (from spacy<2.4.0,>=2.3.0->en-core-web-sm==2.3.1) (0.8.2)\n",
            "Requirement already satisfied: requests<3.0.0,>=2.13.0 in /usr/local/lib/python3.7/dist-packages (from spacy<2.4.0,>=2.3.0->en-core-web-sm==2.3.1) (2.23.0)\n",
            "Requirement already satisfied: preshed<3.1.0,>=3.0.2 in /usr/local/lib/python3.7/dist-packages (from spacy<2.4.0,>=2.3.0->en-core-web-sm==2.3.1) (3.0.6)\n",
            "Requirement already satisfied: thinc<7.5.0,>=7.4.1 in /usr/local/lib/python3.7/dist-packages (from spacy<2.4.0,>=2.3.0->en-core-web-sm==2.3.1) (7.4.5)\n",
            "Requirement already satisfied: tqdm<5.0.0,>=4.38.0 in /usr/local/lib/python3.7/dist-packages (from spacy<2.4.0,>=2.3.0->en-core-web-sm==2.3.1) (4.62.3)\n",
            "Requirement already satisfied: setuptools in /usr/local/lib/python3.7/dist-packages (from spacy<2.4.0,>=2.3.0->en-core-web-sm==2.3.1) (57.4.0)\n",
            "Requirement already satisfied: catalogue<1.1.0,>=0.0.7 in /usr/local/lib/python3.7/dist-packages (from spacy<2.4.0,>=2.3.0->en-core-web-sm==2.3.1) (1.0.0)\n",
            "Requirement already satisfied: importlib-metadata>=0.20 in /usr/local/lib/python3.7/dist-packages (from catalogue<1.1.0,>=0.0.7->spacy<2.4.0,>=2.3.0->en-core-web-sm==2.3.1) (4.8.2)\n",
            "Requirement already satisfied: typing-extensions>=3.6.4 in /usr/local/lib/python3.7/dist-packages (from importlib-metadata>=0.20->catalogue<1.1.0,>=0.0.7->spacy<2.4.0,>=2.3.0->en-core-web-sm==2.3.1) (3.10.0.2)\n",
            "Requirement already satisfied: zipp>=0.5 in /usr/local/lib/python3.7/dist-packages (from importlib-metadata>=0.20->catalogue<1.1.0,>=0.0.7->spacy<2.4.0,>=2.3.0->en-core-web-sm==2.3.1) (3.6.0)\n",
            "Requirement already satisfied: chardet<4,>=3.0.2 in /usr/local/lib/python3.7/dist-packages (from requests<3.0.0,>=2.13.0->spacy<2.4.0,>=2.3.0->en-core-web-sm==2.3.1) (3.0.4)\n",
            "Requirement already satisfied: certifi>=2017.4.17 in /usr/local/lib/python3.7/dist-packages (from requests<3.0.0,>=2.13.0->spacy<2.4.0,>=2.3.0->en-core-web-sm==2.3.1) (2021.10.8)\n",
            "Requirement already satisfied: idna<3,>=2.5 in /usr/local/lib/python3.7/dist-packages (from requests<3.0.0,>=2.13.0->spacy<2.4.0,>=2.3.0->en-core-web-sm==2.3.1) (2.10)\n",
            "Requirement already satisfied: urllib3!=1.25.0,!=1.25.1,<1.26,>=1.21.1 in /usr/local/lib/python3.7/dist-packages (from requests<3.0.0,>=2.13.0->spacy<2.4.0,>=2.3.0->en-core-web-sm==2.3.1) (1.24.3)\n"
          ]
        }
      ],
      "source": [
        "pip install https://github.com/explosion/spacy-models/releases/download/en_core_web_sm-2.3.1/en_core_web_sm-2.3.1.tar.gz"
      ]
    },
    {
      "cell_type": "code",
      "execution_count": 17,
      "metadata": {
        "colab": {
          "base_uri": "https://localhost:8080/"
        },
        "id": "1SDbzgoFPXU6",
        "outputId": "26fca196-7fdf-4e5f-d1ed-3b2d1e7c8bec"
      },
      "outputs": [
        {
          "output_type": "stream",
          "name": "stdout",
          "text": [
            "[nltk_data] Downloading package wordnet to /root/nltk_data...\n",
            "[nltk_data]   Package wordnet is already up-to-date!\n",
            "[nltk_data] Downloading package punkt to /root/nltk_data...\n",
            "[nltk_data]   Package punkt is already up-to-date!\n",
            "Requirement already satisfied: pattern in /usr/local/lib/python3.7/dist-packages (3.6)\n",
            "Requirement already satisfied: lxml in /usr/local/lib/python3.7/dist-packages (from pattern) (4.2.6)\n",
            "Requirement already satisfied: backports.csv in /usr/local/lib/python3.7/dist-packages (from pattern) (1.0.7)\n",
            "Requirement already satisfied: scipy in /usr/local/lib/python3.7/dist-packages (from pattern) (1.4.1)\n",
            "Requirement already satisfied: nltk in /usr/local/lib/python3.7/dist-packages (from pattern) (3.2.5)\n",
            "Requirement already satisfied: cherrypy in /usr/local/lib/python3.7/dist-packages (from pattern) (18.6.1)\n",
            "Requirement already satisfied: beautifulsoup4 in /usr/local/lib/python3.7/dist-packages (from pattern) (4.6.3)\n",
            "Requirement already satisfied: feedparser in /usr/local/lib/python3.7/dist-packages (from pattern) (6.0.8)\n",
            "Requirement already satisfied: pdfminer.six in /usr/local/lib/python3.7/dist-packages (from pattern) (20211012)\n",
            "Requirement already satisfied: numpy in /usr/local/lib/python3.7/dist-packages (from pattern) (1.19.5)\n",
            "Requirement already satisfied: requests in /usr/local/lib/python3.7/dist-packages (from pattern) (2.23.0)\n",
            "Requirement already satisfied: mysqlclient in /usr/local/lib/python3.7/dist-packages (from pattern) (2.1.0)\n",
            "Requirement already satisfied: python-docx in /usr/local/lib/python3.7/dist-packages (from pattern) (0.8.11)\n",
            "Requirement already satisfied: future in /usr/local/lib/python3.7/dist-packages (from pattern) (0.16.0)\n",
            "Requirement already satisfied: jaraco.collections in /usr/local/lib/python3.7/dist-packages (from cherrypy->pattern) (3.5.1)\n",
            "Requirement already satisfied: portend>=2.1.1 in /usr/local/lib/python3.7/dist-packages (from cherrypy->pattern) (3.1.0)\n",
            "Requirement already satisfied: more-itertools in /usr/local/lib/python3.7/dist-packages (from cherrypy->pattern) (8.12.0)\n",
            "Requirement already satisfied: zc.lockfile in /usr/local/lib/python3.7/dist-packages (from cherrypy->pattern) (2.0)\n",
            "Requirement already satisfied: cheroot>=8.2.1 in /usr/local/lib/python3.7/dist-packages (from cherrypy->pattern) (8.6.0)\n",
            "Requirement already satisfied: six>=1.11.0 in /usr/local/lib/python3.7/dist-packages (from cheroot>=8.2.1->cherrypy->pattern) (1.15.0)\n",
            "Requirement already satisfied: jaraco.functools in /usr/local/lib/python3.7/dist-packages (from cheroot>=8.2.1->cherrypy->pattern) (3.5.0)\n",
            "Requirement already satisfied: tempora>=1.8 in /usr/local/lib/python3.7/dist-packages (from portend>=2.1.1->cherrypy->pattern) (4.1.2)\n",
            "Requirement already satisfied: pytz in /usr/local/lib/python3.7/dist-packages (from tempora>=1.8->portend>=2.1.1->cherrypy->pattern) (2018.9)\n",
            "Requirement already satisfied: sgmllib3k in /usr/local/lib/python3.7/dist-packages (from feedparser->pattern) (1.0.0)\n",
            "Requirement already satisfied: jaraco.classes in /usr/local/lib/python3.7/dist-packages (from jaraco.collections->cherrypy->pattern) (3.2.1)\n",
            "Requirement already satisfied: jaraco.text in /usr/local/lib/python3.7/dist-packages (from jaraco.collections->cherrypy->pattern) (3.6.0)\n",
            "Requirement already satisfied: importlib-resources in /usr/local/lib/python3.7/dist-packages (from jaraco.text->jaraco.collections->cherrypy->pattern) (5.4.0)\n",
            "Requirement already satisfied: zipp>=3.1.0 in /usr/local/lib/python3.7/dist-packages (from importlib-resources->jaraco.text->jaraco.collections->cherrypy->pattern) (3.6.0)\n",
            "Requirement already satisfied: cryptography in /usr/local/lib/python3.7/dist-packages (from pdfminer.six->pattern) (36.0.1)\n",
            "Requirement already satisfied: chardet in /usr/local/lib/python3.7/dist-packages (from pdfminer.six->pattern) (3.0.4)\n",
            "Requirement already satisfied: cffi>=1.12 in /usr/local/lib/python3.7/dist-packages (from cryptography->pdfminer.six->pattern) (1.15.0)\n",
            "Requirement already satisfied: pycparser in /usr/local/lib/python3.7/dist-packages (from cffi>=1.12->cryptography->pdfminer.six->pattern) (2.21)\n",
            "Requirement already satisfied: certifi>=2017.4.17 in /usr/local/lib/python3.7/dist-packages (from requests->pattern) (2021.10.8)\n",
            "Requirement already satisfied: urllib3!=1.25.0,!=1.25.1,<1.26,>=1.21.1 in /usr/local/lib/python3.7/dist-packages (from requests->pattern) (1.24.3)\n",
            "Requirement already satisfied: idna<3,>=2.5 in /usr/local/lib/python3.7/dist-packages (from requests->pattern) (2.10)\n",
            "Requirement already satisfied: setuptools in /usr/local/lib/python3.7/dist-packages (from zc.lockfile->cherrypy->pattern) (57.4.0)\n",
            "\u001b[38;5;2m✔ Download and installation successful\u001b[0m\n",
            "You can now load the model via spacy.load('en_core_web_lg')\n"
          ]
        }
      ],
      "source": [
        "#Packages\n",
        "\n",
        "import nltk\n",
        "from nltk.stem import WordNetLemmatizer\n",
        "from nltk.corpus import wordnet\n",
        "import spacy\n",
        "import nltk\n",
        "nltk.download('wordnet')\n",
        "nltk.download('punkt')\n",
        "!pip install pattern \n",
        "from pattern.en import conjugate\n",
        "import spacy.cli\n",
        "spacy.cli.download(\"en_core_web_lg\")\n",
        "from spacy.tokens import Doc\n",
        "import re\n",
        "from pattern.en import singularize\n",
        "import textwrap"
      ]
    },
    {
      "cell_type": "code",
      "source": [
        "nlp = spacy.load(\"en_core_web_lg\")"
      ],
      "metadata": {
        "id": "UVsbkma7BoGl"
      },
      "execution_count": 18,
      "outputs": []
    },
    {
      "cell_type": "code",
      "source": [
        "#We build a fonction that indicates if a word is singular of plural \n",
        "def isplural(pluralForm):\n",
        "     singularForm = singularize(pluralForm)\n",
        "     plural = True if pluralForm is not singularForm else False\n",
        "     return plural\n",
        "\n",
        "isplural(\"parents\")\n",
        "\n"
      ],
      "metadata": {
        "id": "mLTKuBk02qst",
        "colab": {
          "base_uri": "https://localhost:8080/"
        },
        "outputId": "6a2e0bc4-8595-40e0-8aa5-a00860344dac"
      },
      "execution_count": 19,
      "outputs": [
        {
          "output_type": "execute_result",
          "data": {
            "text/plain": [
              "True"
            ]
          },
          "metadata": {},
          "execution_count": 19
        }
      ]
    },
    {
      "cell_type": "code",
      "source": [
        "#Define a wrapper that we allow the text to fit well the screen\n",
        "wrapper = textwrap.TextWrapper(width=120)\n",
        "\n"
      ],
      "metadata": {
        "id": "0xd5YemRHGhf"
      },
      "execution_count": 20,
      "outputs": []
    },
    {
      "cell_type": "code",
      "source": [
        "def chatbot():\n",
        "\n",
        "  ###### Initialisation of the conversation ######\n",
        "\n",
        "  print(\"- Socrate: Hello I am Socrate!, I am here to help you, what is your problem at the moment?\")\n",
        "\n",
        "  answer1=input(\"- User: \")\n",
        "\n",
        "  ###### Stage 1: Finding the reasons of the problems ######\n",
        "\n",
        "  doc = nlp(answer1)\n",
        "\n",
        "  #We replace first person pronouns by second person pronouns\n",
        "  answer1=re.sub(r'\\bi\\b', 'you', answer1)\n",
        "  answer1=re.sub(r'\\bI\\b', 'you', answer1)\n",
        "  answer1=re.sub(r'\\bmy\\b', 'your', answer1)\n",
        "  answer1=re.sub(r'\\bMy\\b', 'your', answer1)\n",
        "  answer1=re.sub(r'\\bmine\\b', 'yours', answer1)\n",
        "  answer1=re.sub(r'\\bMine\\b', 'yours', answer1)\n",
        "  answer1=re.sub(r'\\bam\\b', 'are', answer1)\n",
        "  answer1=re.sub(r'\\bme\\b', 'you', answer1) \n",
        "  answer1=re.sub(r'\\bwas\\b', 'were', answer1) \n",
        "\n",
        "  print(wrapper.fill(\"- Socrate: Could you think of any reason why \"+answer1+\"?\"))\n",
        "\n",
        "  ##### The reason is valid only if the sentence contains a verb #####\n",
        "  verb = []\n",
        "  while len(verb)==0:\n",
        "  \n",
        "    answer2=input(\"- User: \").lower()\n",
        "    #We create a copy to keep the original form that will be useful after \n",
        "    answer2_copy=answer2\n",
        "    doc=nlp(answer2)\n",
        "    \n",
        "    verb_idx=[]\n",
        "    for token in doc:\n",
        "        #We consider verb that is not in \"ing\" form or in past principle form \n",
        "        if token.pos_ in ('VERB', 'CONJ', 'AUX') and token.tag_ !=\"VBG\" and token.tag_ !=\"VBN\"  :\n",
        "          verb.append(token)\n",
        "          verb_idx.append(token.i)\n",
        "    if len(verb)==0:\n",
        "      print(\"- Socrate : Sorry I do not understand your answer, your sentence does not contain any verb\")\n",
        "      print(wrapper.fill(\"- Socrate : Try answering again: could you think of any reason why \"+answer1+\"?\"))\n",
        "\n",
        "\n",
        "  vb_conj=[]\n",
        "  for i in range(0,len(verb)):\n",
        "    #If the world just before the verb (we assume that is the subject) is \"I\" or a plural subject, we conjugate at the 2nd person\n",
        "    if str(doc[verb_idx[i]-1]).lower()==\"i\" or isplural(str(doc[verb_idx[i]-1])):\n",
        "      vb_conj.append(conjugate(str(verb[i]), tense = \"present\",person = 2, number = \"singular\", mood = \"indicative\", aspect = \"imperfective\",negated = False))\n",
        "    #Otherwise we conjugate at the 3rd person\n",
        "    else:\n",
        "      vb_conj.append(conjugate(str(verb[i]), tense = \"present\",person = 3, number = \"singular\", mood = \"indicative\", aspect = \"imperfective\",negated = False))\n",
        "\n",
        "  for i in range(0,len(verb)):\n",
        "    answer2=re.sub(str(doc[verb_idx[i]-1])+' '+str(verb[i]), str(doc[verb_idx[i]-1])+' '+vb_conj[i], answer2)\n",
        "  \n",
        "  #We replace first person pronouns by second person pronouns\n",
        "  answer2=re.sub(r'\\bi\\b', 'you', answer2)\n",
        "  answer2=re.sub(r'\\bI\\b', 'you', answer2)\n",
        "  answer2=re.sub(r'\\bmy\\b', 'your', answer2)\n",
        "  answer2=re.sub(r'\\bMy\\b', 'your', answer2)\n",
        "  answer2=re.sub(r'\\bmine\\b', 'yours', answer2)\n",
        "  answer2=re.sub(r'\\bMine\\b', 'yours', answer2)\n",
        "  answer2=re.sub(r'\\bme\\b', 'you', answer2)\n",
        "\n",
        "  answer2_copy=re.sub(r'\\bi\\b', 'you', answer2_copy)\n",
        "  answer2_copy=re.sub(r'\\bI\\b', 'you', answer2_copy)\n",
        "  answer2_copy=re.sub(r'\\bmy\\b', 'your', answer2_copy)\n",
        "  answer2_copy=re.sub(r'\\bMy\\b', 'your', answer2_copy)\n",
        "  answer2_copy=re.sub(r'\\bmine\\b', 'yours', answer2_copy)\n",
        "  answer2_copy=re.sub(r'\\bMine\\b', 'yours', answer2_copy)\n",
        "  answer2_copy=re.sub(r'\\bme\\b', 'you', answer2_copy)\n",
        "  answer2_copy=re.sub(r'\\bam\\b', 'are', answer2_copy)\n",
        "  answer2_copy=re.sub(r'\\bwas\\b', 'were', answer2_copy)\n",
        " \n",
        "\n",
        "  ###### Stage 2: Asking about the experience ######\n",
        "  print(\"- Socrate: Is it the first time \"+answer2+\"? (yes/no)\")\n",
        "\n",
        "  answer3=\"init\"\n",
        "  while answer3.lower()!=\"yes\" and answer3.lower()!=\"no\":\n",
        "    answer3=input(\"- User: \")\n",
        "    if answer3.lower()!=\"yes\" and answer3.lower()!=\"no\":\n",
        "      print(wrapper.fill(\"- Socrate: Could you please respond with yes or no: Is it the first time \"+answer2+\"? (yes/no)\"))\n",
        "  \n",
        "  ###### Stage 2.1 : First case: it is not the first time the problem happens #####\n",
        "  if answer3.lower()==\"no\":\n",
        "    \n",
        "    ###### Stage 3: Making sure the statement is clear ######\n",
        "    print(wrapper.fill(\"- Socrate: So \"+answer1+\" because \"+answer2_copy+\" and it is not the first it happens to you, is that correct? (yes/no)\"))\n",
        "    \n",
        "    answer4=\"init\"\n",
        "    while answer4.lower()!=\"yes\" and answer4.lower()!=\"no\":\n",
        "      answer4=input(\"- User: \")\n",
        "      if answer4.lower()!=\"yes\" and answer4.lower()!=\"no\":\n",
        "        print(wrapper.fill(\"- Socrate: Could you please respond with yes or no: I am correct? (yes/no)\"))\n",
        "  \n",
        "    ##### Stage 3.1 : The statement is clear #####\n",
        "    if answer4.lower()==\"yes\":\n",
        "\n",
        "      ###### Stage 4: Conclusion of the conversation ######\n",
        "      print(wrapper.fill(\"- Socrate: Well for some people, it takes more time to learn from a bad situation. But I believe that, this time, you will learn from it and you will not end up in this bad situation again\"))\n",
        "    \n",
        "    ##### Stage 3.2 : The statement is not clear: ask again for the problem and the reasons #####\n",
        "    if answer4.lower()==\"no\":\n",
        "      print(wrapper.fill(\"- Socrate: I am sorry, there is something I did not get, can you state again what is your problem and what you believe the reasons of this problem are?\"))\n",
        "      answer3=input(\"- User: \")\n",
        "\n",
        "      ###### Stage 4: Conclusion of the conversation ######\n",
        "      print(wrapper.fill(\"- Socrate: Right, I am glad if I have helped you clarify your thinking.\"))\n",
        "      \n",
        "\n",
        "\n",
        "\n",
        "  ##### Stage 2.1 : First case: it is the first time the problem happens #####\n",
        "  if answer3.lower()==\"yes\":\n",
        "    \n",
        "    ###### Stage 3: Making sure the statement is clear ######\n",
        "    print(wrapper.fill(\"- Socrate: So \"+answer1+\" because \"+answer2_copy+\" and it is the first it happens to you, is that correct? (yes/no)\"))\n",
        "    \n",
        "    answer4=\"init\"\n",
        "    while answer4.lower()!=\"yes\" and answer4.lower()!=\"no\":\n",
        "      answer4=input(\"- User: \")\n",
        "      if answer4.lower()!=\"yes\" and answer4.lower()!=\"no\":\n",
        "        print(wrapper.fill(\"- Socrate: Could you please respond with yes or no: I am correct? (yes/no)\"))\n",
        "  \n",
        "    ##### Stage 3.1 : The statement is clear #####\n",
        "    if answer4.lower()==\"yes\":\n",
        "\n",
        "      ###### Stage 4: Conclusion of the conversation ######\n",
        "      print(wrapper.fill(\"- Socrate : So to make you feel better, think about why this happened today and why it has never happened before. This will help you solving your bad situation.\"))\n",
        "    \n",
        "    ##### Stage 3.1 : The statement is not clear: ask again for the problem and the reasons #####\n",
        "    if answer4.lower()==\"no\":\n",
        "      print(wrapper.fill(\"- Socrate: I am sorry, there is something I did not get, can you state again what is your problem and what you believe the reasons of this problem are?\"))\n",
        "      answer3=input(\"- User: \")\n",
        "\n",
        "      ###### Stage 4: Conclusion of the conversation ######\n",
        "      print(wrapper.fill(\"- Socrate: Right, I am glad if I have helped you clarify your thinking.\"))\n",
        "      \n",
        "\n",
        "chatbot()"
      ],
      "metadata": {
        "colab": {
          "base_uri": "https://localhost:8080/"
        },
        "id": "JnWFyekIXCcK",
        "outputId": "b5583a62-c99f-40df-ed79-3c58d3ed7ccb"
      },
      "execution_count": 26,
      "outputs": [
        {
          "output_type": "stream",
          "name": "stdout",
          "text": [
            "- Socrate: Hello I am Socrate!, I am here to help you, what is your problem at the moment?\n",
            "- User: I lost my wallet\n",
            "- Socrate: Could you think of any reason why you lost your wallet?\n",
            "- User: I forgot it at my office\n",
            "- Socrate: Is it the first time you forget it at your office? (yes/no)\n",
            "- User: no\n",
            "- Socrate: So you lost your wallet because you forgot it at your office and it is not the first it happens to you, is\n",
            "that correct? (yes/no)\n",
            "- User: no\n",
            "- Socrate: I am sorry, there is something I did not get, can you state again what is your problem and what you believe\n",
            "the reasons of this problem are?\n",
            "- User: Actually, I've just remembered that my wallet is in my handbag that stayed at home\n",
            "- Socrate: Right, I am glad if I have helped you clarify your thinking.\n"
          ]
        }
      ]
    }
  ],
  "metadata": {
    "colab": {
      "name": "deepl-lechene-soler",
      "provenance": [],
      "collapsed_sections": []
    },
    "kernelspec": {
      "display_name": "Python 3",
      "name": "python3"
    },
    "language_info": {
      "name": "python"
    }
  },
  "nbformat": 4,
  "nbformat_minor": 0
}